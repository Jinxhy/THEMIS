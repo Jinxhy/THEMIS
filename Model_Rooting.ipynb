{
 "cells": [
  {
   "cell_type": "markdown",
   "metadata": {
    "id": "S9eLyYdy9t4I"
   },
   "source": [
    "# TensorFlow Lite Model Informative Classes Generation"
   ]
  },
  {
   "cell_type": "markdown",
   "metadata": {
    "id": "LN0slo1N-dMT"
   },
   "source": [
    "## Software installation\n",
    "\n",
    "Our objective is to construct Python classes that accurately represent the data structures defined within TensorFlow Lite Flatbuffer files. Achieving this requires the following dependencies:\n",
    " - The `flatc` compiler: Responsible for generating ***Model Informative Classes*** from the text schema describing the model format.\n",
    " - The text schema: Defines the data structure of the model format\n",
    " - The Flatbuffer Python library: Serves as the runtime dependency for the generated accessor classes.\n",
    "\n",
    "Notably, the `flatc` compiler is not available as a prebuilt binary and must be compiled from source. To ensure compatibility, the compiler version must align precisely with the Flatbuffer Python library version installed on the system. A mismatch between these versions can result in generated code that fails due to API inconsistencies. For this work, we use the Flatbuffer Python library version 1.12.0. Therefore, we acquire the source code for the flatc compiler by downloading the GitHub snapshot tagged with version 1.12.0, ensuring version consistency across all components. This setup guarantees functional and reproducible results.\n",
    "\n",
    "Remark: The latest versions of the Flatbuffer Python library and the `flatc` compiler can be used as well, but consistency between the two versions must be ensured to maintain functionality."
   ]
  },
  {
   "cell_type": "markdown",
   "metadata": {
    "id": "Gvc8Gv806odl"
   },
   "source": [
    "### Install Flatbuffer Python Library"
   ]
  },
  {
   "cell_type": "code",
   "execution_count": null,
   "metadata": {
    "colab": {
     "base_uri": "https://localhost:8080/"
    },
    "id": "v9eegi_vtxW4",
    "outputId": "4488c6bc-33f5-4301-8405-3fd439338697"
   },
   "outputs": [
    {
     "name": "stdout",
     "output_type": "stream",
     "text": [
      "Requirement already satisfied: flatbuffers==1.12.0 in /usr/local/lib/python3.7/dist-packages (1.12)\n"
     ]
    }
   ],
   "source": [
    "pip install flatbuffers==1.12.0\n",
    "import flatbuffers"
   ]
  },
  {
   "cell_type": "markdown",
   "metadata": {
    "id": "njMMlz3L69Re"
   },
   "source": [
    "### Build the 'flatc' Compiler\n",
    "\n",
    "The flatc compiler is required to generate ***Model Informative Classes*** for reading and writing serialized files. As prebuilt binaries are not readily available, the source code for the appropriate version is obtained and compiled directly. This process may take a few minutes.\n",
    "\n",
    "After successfully building the flatc binary, it should be moved to the `/usr/local/bin` directory to ensure it is readily accessible as a system command."
   ]
  },
  {
   "cell_type": "code",
   "execution_count": null,
   "metadata": {
    "colab": {
     "base_uri": "https://localhost:8080/"
    },
    "id": "HiM0ZsxO6NuX",
    "outputId": "0e2d7dd0-1a13-43f0-d79e-81b47a5e1de0"
   },
   "outputs": [
    {
     "name": "stdout",
     "output_type": "stream",
     "text": [
      "/content\n",
      "  % Total    % Received % Xferd  Average Speed   Time    Time     Time  Current\n",
      "                                 Dload  Upload   Total   Spent    Left  Speed\n",
      "100   124  100   124    0     0    821      0 --:--:-- --:--:-- --:--:--   815\n",
      "100 1463k    0 1463k    0     0  2631k      0 --:--:-- --:--:-- --:--:-- 2631k\n",
      "/content/flatbuffers\n",
      "-- The C compiler identification is GNU 7.5.0\n",
      "-- The CXX compiler identification is GNU 7.5.0\n",
      "-- Check for working C compiler: /usr/bin/cc\n",
      "-- Check for working C compiler: /usr/bin/cc -- works\n",
      "-- Detecting C compiler ABI info\n",
      "-- Detecting C compiler ABI info - done\n",
      "-- Detecting C compile features\n",
      "-- Detecting C compile features - done\n",
      "-- Check for working CXX compiler: /usr/bin/c++\n",
      "-- Check for working CXX compiler: /usr/bin/c++ -- works\n",
      "-- Detecting CXX compiler ABI info\n",
      "-- Detecting CXX compiler ABI info - done\n",
      "-- Detecting CXX compile features\n",
      "-- Detecting CXX compile features - done\n",
      "-- Looking for strtof_l\n",
      "-- Looking for strtof_l - found\n",
      "-- Looking for strtoull_l\n",
      "-- Looking for strtoull_l - found\n",
      "-- `tests/monster_test.fbs`: add generation of C++ code with '--no-includes;--gen-compare'\n",
      "-- `tests/monster_test.fbs`: add generation of binary (.bfbs) schema\n",
      "-- `tests/namespace_test/namespace_test1.fbs`: add generation of C++ code with '--no-includes;--gen-compare'\n",
      "-- `tests/namespace_test/namespace_test2.fbs`: add generation of C++ code with '--no-includes;--gen-compare'\n",
      "-- `tests/union_vector/union_vector.fbs`: add generation of C++ code with '--no-includes;--gen-compare'\n",
      "-- `tests/native_type_test.fbs`: add generation of C++ code with ''\n",
      "-- `tests/arrays_test.fbs`: add generation of C++ code with '--scoped-enums;--gen-compare'\n",
      "-- `tests/arrays_test.fbs`: add generation of binary (.bfbs) schema\n",
      "-- `tests/monster_test.fbs`: add generation of C++ embedded binary schema code with '--no-includes;--gen-compare'\n",
      "-- `tests/monster_extra.fbs`: add generation of C++ code with '--no-includes;--gen-compare'\n",
      "-- `samples/monster.fbs`: add generation of C++ code with '--no-includes;--gen-compare'\n",
      "-- `samples/monster.fbs`: add generation of binary (.bfbs) schema\n",
      "fatal: not a git repository (or any of the parent directories): .git\n",
      "-- Configuring done\n",
      "-- Generating done\n",
      "-- Build files have been written to: /content/flatbuffers\n",
      "\u001b[35m\u001b[1mScanning dependencies of target flatbuffers\u001b[0m\n",
      "\u001b[35m\u001b[1mScanning dependencies of target flathash\u001b[0m\n",
      "\u001b[35m\u001b[1mScanning dependencies of target flatc\u001b[0m\n",
      "[  1%] \u001b[32mBuilding CXX object CMakeFiles/flathash.dir/src/flathash.cpp.o\u001b[0m\n",
      "[  2%] \u001b[32mBuilding CXX object CMakeFiles/flatbuffers.dir/src/reflection.cpp.o\u001b[0m\n",
      "[  3%] \u001b[32mBuilding CXX object CMakeFiles/flatbuffers.dir/src/util.cpp.o\u001b[0m\n",
      "[  4%] \u001b[32mBuilding CXX object CMakeFiles/flatbuffers.dir/src/idl_gen_text.cpp.o\u001b[0m\n",
      "[  5%] \u001b[32mBuilding CXX object CMakeFiles/flatbuffers.dir/src/idl_parser.cpp.o\u001b[0m\n",
      "[  7%] \u001b[32mBuilding CXX object CMakeFiles/flatc.dir/src/reflection.cpp.o\u001b[0m\n",
      "[  8%] \u001b[32mBuilding CXX object CMakeFiles/flatc.dir/src/idl_parser.cpp.o\u001b[0m\n",
      "[  9%] \u001b[32mBuilding CXX object CMakeFiles/flatc.dir/src/idl_gen_text.cpp.o\u001b[0m\n",
      "[ 10%] \u001b[32m\u001b[1mLinking CXX executable flathash\u001b[0m\n",
      "[ 10%] Built target flathash\n",
      "[ 11%] \u001b[32mBuilding CXX object CMakeFiles/flatc.dir/src/util.cpp.o\u001b[0m\n",
      "[ 12%] \u001b[32mBuilding CXX object CMakeFiles/flatc.dir/src/idl_gen_cpp.cpp.o\u001b[0m\n",
      "[ 14%] \u001b[32mBuilding CXX object CMakeFiles/flatc.dir/src/idl_gen_csharp.cpp.o\u001b[0m\n",
      "[ 15%] \u001b[32mBuilding CXX object CMakeFiles/flatc.dir/src/idl_gen_dart.cpp.o\u001b[0m\n",
      "[ 16%] \u001b[32mBuilding CXX object CMakeFiles/flatc.dir/src/idl_gen_kotlin.cpp.o\u001b[0m\n",
      "[ 17%] \u001b[32mBuilding CXX object CMakeFiles/flatc.dir/src/idl_gen_go.cpp.o\u001b[0m\n",
      "[ 18%] \u001b[32mBuilding CXX object CMakeFiles/flatc.dir/src/idl_gen_java.cpp.o\u001b[0m\n",
      "[ 20%] \u001b[32mBuilding CXX object CMakeFiles/flatc.dir/src/idl_gen_js_ts.cpp.o\u001b[0m\n",
      "[ 21%] \u001b[32mBuilding CXX object CMakeFiles/flatc.dir/src/idl_gen_php.cpp.o\u001b[0m\n",
      "[ 22%] \u001b[32mBuilding CXX object CMakeFiles/flatc.dir/src/idl_gen_python.cpp.o\u001b[0m\n",
      "[ 23%] \u001b[32mBuilding CXX object CMakeFiles/flatc.dir/src/idl_gen_lobster.cpp.o\u001b[0m\n",
      "[ 24%] \u001b[32mBuilding CXX object CMakeFiles/flatc.dir/src/idl_gen_lua.cpp.o\u001b[0m\n",
      "[ 25%] \u001b[32mBuilding CXX object CMakeFiles/flatc.dir/src/idl_gen_rust.cpp.o\u001b[0m\n",
      "[ 27%] \u001b[32mBuilding CXX object CMakeFiles/flatc.dir/src/idl_gen_fbs.cpp.o\u001b[0m\n",
      "[ 28%] \u001b[32mBuilding CXX object CMakeFiles/flatc.dir/src/idl_gen_grpc.cpp.o\u001b[0m\n",
      "[ 29%] \u001b[32mBuilding CXX object CMakeFiles/flatc.dir/src/idl_gen_json_schema.cpp.o\u001b[0m\n",
      "[ 30%] \u001b[32mBuilding CXX object CMakeFiles/flatc.dir/src/idl_gen_swift.cpp.o\u001b[0m\n",
      "[ 31%] \u001b[32m\u001b[1mLinking CXX static library libflatbuffers.a\u001b[0m\n",
      "[ 32%] \u001b[32mBuilding CXX object CMakeFiles/flatc.dir/src/flatc.cpp.o\u001b[0m\n",
      "[ 32%] Built target flatbuffers\n",
      "[ 34%] \u001b[32mBuilding CXX object CMakeFiles/flatc.dir/src/flatc_main.cpp.o\u001b[0m\n",
      "[ 35%] \u001b[32mBuilding CXX object CMakeFiles/flatc.dir/src/code_generators.cpp.o\u001b[0m\n",
      "[ 36%] \u001b[32mBuilding CXX object CMakeFiles/flatc.dir/grpc/src/compiler/cpp_generator.cc.o\u001b[0m\n",
      "[ 37%] \u001b[32mBuilding CXX object CMakeFiles/flatc.dir/grpc/src/compiler/go_generator.cc.o\u001b[0m\n",
      "[ 38%] \u001b[32mBuilding CXX object CMakeFiles/flatc.dir/grpc/src/compiler/java_generator.cc.o\u001b[0m\n",
      "[ 40%] \u001b[32mBuilding CXX object CMakeFiles/flatc.dir/grpc/src/compiler/python_generator.cc.o\u001b[0m\n",
      "[ 41%] \u001b[32mBuilding CXX object CMakeFiles/flatc.dir/grpc/src/compiler/swift_generator.cc.o\u001b[0m\n",
      "[ 42%] \u001b[32m\u001b[1mLinking CXX executable flatc\u001b[0m\n",
      "[ 42%] Built target flatc\n",
      "\u001b[35m\u001b[1mScanning dependencies of target generated_code\u001b[0m\n",
      "[ 43%] \u001b[34m\u001b[1mRun generation: 'samples/monster.bfbs'\u001b[0m\n",
      "[ 45%] \u001b[34m\u001b[1mRun generation: 'tests/union_vector/union_vector_generated.h'\u001b[0m\n",
      "[ 47%] \u001b[34m\u001b[1mRun generation: 'tests/native_type_test_generated.h'\u001b[0m\n",
      "[ 47%] \u001b[34m\u001b[1mRun generation: 'tests/arrays_test_generated.h'\u001b[0m\n",
      "[ 49%] \u001b[34m\u001b[1mRun generation: 'tests/monster_test_generated.h'\u001b[0m\n",
      "[ 50%] \u001b[34m\u001b[1mRun generation: 'tests/monster_test.bfbs'\u001b[0m\n",
      "[ 51%] \u001b[34m\u001b[1mRun generation: 'tests/namespace_test/namespace_test1_generated.h'\u001b[0m\n",
      "[ 51%] \u001b[34m\u001b[1mRun generation: 'tests/namespace_test/namespace_test2_generated.h'\u001b[0m\n",
      "[ 52%] \u001b[34m\u001b[1mRun generation: 'tests/monster_extra_generated.h'\u001b[0m\n",
      "[ 54%] \u001b[34m\u001b[1mRun generation: 'tests/arrays_test.bfbs'\u001b[0m\n",
      "[ 55%] \u001b[34m\u001b[1mRun generation: 'samples/monster_generated.h'\u001b[0m\n",
      "[ 56%] \u001b[34m\u001b[1mRun generation: 'tests/monster_test_bfbs_generated.h'\u001b[0m\n",
      "[ 57%] \u001b[34m\u001b[1mAll generated files were updated.\u001b[0m\n",
      "[ 57%] Built target generated_code\n",
      "\u001b[35m\u001b[1mScanning dependencies of target flattests\u001b[0m\n",
      "\u001b[35m\u001b[1mScanning dependencies of target flatsamplebinary\u001b[0m\n",
      "\u001b[35m\u001b[1mScanning dependencies of target flatsamplebfbs\u001b[0m\n",
      "\u001b[35m\u001b[1mScanning dependencies of target flatsampletext\u001b[0m\n",
      "[ 58%] \u001b[32mBuilding CXX object CMakeFiles/flatsamplebfbs.dir/src/idl_gen_text.cpp.o\u001b[0m\n",
      "[ 60%] \u001b[32mBuilding CXX object CMakeFiles/flatsamplebinary.dir/samples/sample_binary.cpp.o\u001b[0m\n",
      "[ 61%] \u001b[32mBuilding CXX object CMakeFiles/flatsamplebfbs.dir/src/reflection.cpp.o\u001b[0m\n",
      "[ 62%] \u001b[32mBuilding CXX object CMakeFiles/flatsamplebfbs.dir/src/idl_parser.cpp.o\u001b[0m\n",
      "[ 64%] \u001b[32mBuilding CXX object CMakeFiles/flatsamplebfbs.dir/samples/sample_bfbs.cpp.o\u001b[0m\n",
      "[ 63%] \u001b[32mBuilding CXX object CMakeFiles/flatsamplebfbs.dir/src/util.cpp.o\u001b[0m\n",
      "[ 65%] \u001b[32mBuilding CXX object CMakeFiles/flattests.dir/src/idl_parser.cpp.o\u001b[0m\n",
      "[ 67%] \u001b[32mBuilding CXX object CMakeFiles/flatsampletext.dir/src/idl_parser.cpp.o\u001b[0m\n",
      "[ 68%] \u001b[32mBuilding CXX object CMakeFiles/flatsampletext.dir/src/idl_gen_text.cpp.o\u001b[0m\n",
      "[ 69%] \u001b[32m\u001b[1mLinking CXX executable flatsamplebinary\u001b[0m\n",
      "[ 70%] Built target flatsamplebinary\n",
      "[ 71%] \u001b[32mBuilding CXX object CMakeFiles/flatsampletext.dir/src/reflection.cpp.o\u001b[0m\n",
      "[ 72%] \u001b[32mBuilding CXX object CMakeFiles/flatsampletext.dir/src/util.cpp.o\u001b[0m\n",
      "[ 74%] \u001b[32mBuilding CXX object CMakeFiles/flatsampletext.dir/samples/sample_text.cpp.o\u001b[0m\n",
      "[ 75%] \u001b[32mBuilding CXX object CMakeFiles/flattests.dir/src/idl_gen_text.cpp.o\u001b[0m\n",
      "[ 76%] \u001b[32mBuilding CXX object CMakeFiles/flattests.dir/src/reflection.cpp.o\u001b[0m\n",
      "[ 77%] \u001b[32mBuilding CXX object CMakeFiles/flattests.dir/src/util.cpp.o\u001b[0m\n",
      "[ 78%] \u001b[32mBuilding CXX object CMakeFiles/flattests.dir/src/idl_gen_fbs.cpp.o\u001b[0m\n",
      "[ 80%] \u001b[32mBuilding CXX object CMakeFiles/flattests.dir/tests/test.cpp.o\u001b[0m\n",
      "[ 81%] \u001b[32mBuilding CXX object CMakeFiles/flattests.dir/tests/test_assert.cpp.o\u001b[0m\n",
      "[ 82%] \u001b[32mBuilding CXX object CMakeFiles/flattests.dir/tests/test_builder.cpp.o\u001b[0m\n",
      "[ 83%] \u001b[32mBuilding CXX object CMakeFiles/flattests.dir/tests/native_type_test_impl.cpp.o\u001b[0m\n",
      "[ 84%] \u001b[32mBuilding CXX object CMakeFiles/flattests.dir/src/code_generators.cpp.o\u001b[0m\n",
      "[ 85%] \u001b[32m\u001b[1mLinking CXX executable flatsamplebfbs\u001b[0m\n",
      "[ 87%] Built target flatsamplebfbs\n",
      "[ 88%] \u001b[32m\u001b[1mLinking CXX executable flatsampletext\u001b[0m\n",
      "[ 89%] Built target flatsampletext\n",
      "[ 90%] \u001b[32m\u001b[1mLinking CXX executable flattests\u001b[0m\n",
      "[100%] Built target flattests\n"
     ]
    }
   ],
   "source": [
    "# Build and install the Flatbuffer compiler.\n",
    "%cd /content/\n",
    "!rm -rf flatbuffers*\n",
    "!curl -L \"https://github.com/google/flatbuffers/archive/v1.12.0.zip\" -o flatbuffers.zip\n",
    "!unzip -q flatbuffers.zip\n",
    "!mv flatbuffers-1.12.0 flatbuffers\n",
    "%cd flatbuffers\n",
    "!cmake -G \"Unix Makefiles\" -DCMAKE_BUILD_TYPE=Release\n",
    "!make -j 8\n",
    "!cp flatc /usr/local/bin/"
   ]
  },
  {
   "cell_type": "markdown",
   "metadata": {
    "id": "D5vlh6BCM9i0"
   },
   "source": [
    "### Fetch On-device Model Schema\n",
    "\n",
    "TFLite model schema that defines the data structures of a model file, is located in the TensorFlow source code and can be accessed at [this repository](https://github.com/tensorflow/tensorflow/blob/master/tensorflow/compiler/mlir/lite/schema/schema.fbs). To ensure compatibility, the latest version of the schema must be retrieved directly from the GitHub repository."
   ]
  },
  {
   "cell_type": "code",
   "execution_count": null,
   "metadata": {
    "colab": {
     "base_uri": "https://localhost:8080/"
    },
    "id": "4boI3wM00PnS",
    "outputId": "f73ddfbb-f175-4e7c-c27f-290f8d2ae3c0"
   },
   "outputs": [
    {
     "name": "stdout",
     "output_type": "stream",
     "text": [
      "/content\n",
      "Cloning into 'tensorflow'...\n",
      "remote: Enumerating objects: 24788, done.\u001b[K\n",
      "remote: Counting objects: 100% (24788/24788), done.\u001b[K\n",
      "remote: Compressing objects: 100% (17969/17969), done.\u001b[K\n",
      "remote: Total 24788 (delta 9056), reused 11254 (delta 6292), pack-reused 0\u001b[K\n",
      "Receiving objects: 100% (24788/24788), 59.68 MiB | 12.75 MiB/s, done.\n",
      "Resolving deltas: 100% (9056/9056), done.\n",
      "Checking out files: 100% (24939/24939), done.\n"
     ]
    }
   ],
   "source": [
    "%cd /content/\n",
    "!rm -rf tensorflow\n",
    "!git clone --depth 1 https://github.com/tensorflow/tensorflow"
   ]
  },
  {
   "cell_type": "markdown",
   "metadata": {
    "id": "GS1eAfwRNfvG"
   },
   "source": [
    "### Generate Model Informative Classes\n",
    "\n",
    "The `flatc` compiler processes the information defined in the schema and generates Model Informative Classes to enable reading and writing of data within serialized Flatbuffer files. The generated classes are stored in the `tflite` folder. These files define classes, such as `ModelT` within `Model.py`, which encapsulate members that facilitate accessing and modifying the data structures described by the schema."
   ]
  },
  {
   "cell_type": "code",
   "execution_count": null,
   "metadata": {
    "id": "Xl0_MIlMM6Es"
   },
   "outputs": [],
   "source": [
    "!flatc --python --gen-object-api tensorflow/tensorflow/blob/master/tensorflow/compiler/mlir/lite/schema/schema.fbs"
   ]
  },
  {
   "cell_type": "markdown",
   "metadata": {
    "id": "8p_5vLNQ_sFF"
   },
   "source": [
    "### TFLite Model Reading and Writing\n",
    "\n",
    "The provided wrapper functions illustrate how to load data from a file, convert it into a `ModelT` Python object for modification, and save the updated object to a new file."
   ]
  },
  {
   "cell_type": "code",
   "execution_count": null,
   "metadata": {},
   "outputs": [],
   "source": [
    "import sys\n",
    "import Model\n",
    "\n",
    "def load_model_from_file(model_filename):\n",
    "  with open(model_filename, \"rb\") as file:\n",
    "    buffer_data = file.read()\n",
    "  model_obj = Model.Model.GetRootAsModel(buffer_data, 0)\n",
    "  model = Model.ModelT.InitFromObj(model_obj)\n",
    "  return model\n",
    "\n",
    "def save_model_to_file(model, model_filename):\n",
    "  builder = flatbuffers.Builder(1024)\n",
    "  model_offset = model.Pack(builder)\n",
    "  builder.Finish(model_offset, file_identifier=b'TFL3')\n",
    "  model_data = builder.Output()\n",
    "  with open(model_filename, 'wb') as out_file:\n",
    "    out_file.write(model_data)"
   ]
  },
  {
   "cell_type": "code",
   "execution_count": null,
   "metadata": {
    "id": "zex9zZo01lM4"
   },
   "outputs": [],
   "source": [
    "import numpy as np\n",
    "\n",
    "# Load the pre-trained MobileNetV2 TFLite model as a ModelT object.\n",
    "model = load_model_from_file('MobileNetV2_cifar10.tflite')\n",
    "\n",
    "# Iterate over all buffer objects containing weights in the model.\n",
    "for buffer in model.buffers:\n",
    "  # Skip buffers that are either empty or contain small data arrays, as these are unlikely to represent significant weights.\n",
    "  if buffer.data is not None and len(buffer.data) > 1024:\n",
    "    # Read the weights from the model and cast them to 32-bit floats, as this is\n",
    "    # the known data type for all weights in this specific model. In a real-world DL app,\n",
    "    # the data type should be validated using the tensor metadata to ensure correctness.\n",
    "    original_weights = np.frombuffer(buffer.data, dtype=np.float32)\n",
    "\n",
    "    # Here is where Model Reweighting can be applied\n",
    "    munged_weights = np.round(original_weights * (1/0.02)) * 0.02\n",
    "\n",
    "    # Write the modified weights back into the model.\n",
    "    buffer.data = munged_weights\n",
    "\n",
    "# Save the modified model to a new TensorFlow Lite file.\n",
    "save_model_to_file(model, 'MobileNetV2_cifar10_modified.tflite')"
   ]
  }
 ],
 "metadata": {
  "colab": {
   "provenance": []
  },
  "kernelspec": {
   "display_name": "Python 3 (ipykernel)",
   "language": "python",
   "name": "python3"
  },
  "language_info": {
   "codemirror_mode": {
    "name": "ipython",
    "version": 3
   },
   "file_extension": ".py",
   "mimetype": "text/x-python",
   "name": "python",
   "nbconvert_exporter": "python",
   "pygments_lexer": "ipython3",
   "version": "3.9.13"
  }
 },
 "nbformat": 4,
 "nbformat_minor": 1
}
